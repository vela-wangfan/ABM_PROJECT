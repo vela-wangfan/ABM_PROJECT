{
 "cells": [
  {
   "cell_type": "code",
   "execution_count": 1,
   "metadata": {},
   "outputs": [],
   "source": [
    "import random\n",
    "import numpy as np\n",
    "import networkx as nx\n",
    "import matplotlib.pyplot as plt\n",
    "from ABM_model import AttendanceModel"
   ]
  },
  {
   "cell_type": "code",
   "execution_count": 2,
   "metadata": {},
   "outputs": [
    {
     "name": "stderr",
     "output_type": "stream",
     "text": [
      "/Users/Riccardo/Desktop/EmotionCODE/ABM_PROJECT/Model2.0/ABM_model.py:147: RuntimeWarning: overflow encountered in double_scalars\n",
      "  PI = 1 - (1 - self.q_stars[id]) * (1 - emotion)\n",
      "/Users/Riccardo/Desktop/EmotionCODE/ABM_PROJECT/Model2.0/ABM_model.py:148: RuntimeWarning: overflow encountered in double_scalars\n",
      "  NI = self.q_stars[id] * emotion\n",
      "/Users/Riccardo/Desktop/EmotionCODE/ABM_PROJECT/Model2.0/ABM_model.py:150: RuntimeWarning: invalid value encountered in double_scalars\n",
      "  (1 - eta) * self.q_stars[id] - emotion)\n"
     ]
    }
   ],
   "source": [
    "'''\n",
    "(max_steps % lecture_duration) should be equal to 0\n",
    "teacher node only works as a sender\n",
    "'''\n",
    "\n",
    "num_agents = 50\n",
    "# the adjacencyMatrix should be symmetric, the friendships are mutual, it doesn't matter what the diagonal values are because we won't use the diagonal values\n",
    "seed = 32\n",
    "random.seed(seed)\n",
    "adjacencyMatrix = np.random.rand(num_agents, num_agents)\n",
    "adjacencyMatrix = (adjacencyMatrix + adjacencyMatrix.T) / 2\n",
    "max_steps = 5000\n",
    "lecture_duration = 50\n",
    "expressiveness_teacher = 0.8\n",
    "initial_emotion_teacher = 0.9\n",
    "dt = 0.1\n",
    "updateAdj = True\n",
    "friendship_increase = 0.1\n",
    "\n",
    "test_model = AttendanceModel(num_agents, adjacencyMatrix, seed, expressiveness_teacher, initial_emotion_teacher, updateAdj, friendship_increase, max_steps, lecture_duration, dt)\n",
    "test_model.run_model()"
   ]
  },
  {
   "cell_type": "code",
   "execution_count": 3,
   "metadata": {},
   "outputs": [
    {
     "name": "stdout",
     "output_type": "stream",
     "text": [
      "      Attendance\n",
      "0           0.52\n",
      "1           0.50\n",
      "2           0.50\n",
      "3           0.50\n",
      "4           0.50\n",
      "...          ...\n",
      "4996        0.00\n",
      "4997        0.00\n",
      "4998        0.00\n",
      "4999        0.00\n",
      "5000        0.00\n",
      "\n",
      "[5001 rows x 1 columns]\n"
     ]
    }
   ],
   "source": [
    "test_res = test_model.datacollector.get_model_vars_dataframe()\n",
    "print(test_res)"
   ]
  },
  {
   "cell_type": "code",
   "execution_count": 4,
   "metadata": {},
   "outputs": [
    {
     "data": {
      "text/plain": [
       "[<matplotlib.lines.Line2D at 0xa247972d0>]"
      ]
     },
     "execution_count": 4,
     "metadata": {},
     "output_type": "execute_result"
    },
    {
     "data": {
      "image/png": "[encoded data removed]",
      "text/plain": [
       "<Figure size 432x288 with 1 Axes>"
      ]
     },
     "metadata": {
      "needs_background": "light"
     },
     "output_type": "display_data"
    }
   ],
   "source": [
    "plt.plot(test_res['Attendance']/num_agents)"
   ]
  },
  {
   "cell_type": "code",
   "execution_count": null,
   "metadata": {},
   "outputs": [],
   "source": []
  }
 ],
 "metadata": {
  "interpreter": {
   "hash": "8a6378035587bb97055001603ea9d85a2aa377cc6252a50ffca4355a71bc8b90"
  },
  "kernelspec": {
   "display_name": "Python 3",
   "language": "python",
   "name": "python3"
  },
  "language_info": {
   "codemirror_mode": {
    "name": "ipython",
    "version": 3
   },
   "file_extension": ".py",
   "mimetype": "text/x-python",
   "name": "python",
   "nbconvert_exporter": "python",
   "pygments_lexer": "ipython3",
   "version": "3.7.6"
  }
 },
 "nbformat": 4,
 "nbformat_minor": 2
}
